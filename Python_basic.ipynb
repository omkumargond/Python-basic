{
  "nbformat": 4,
  "nbformat_minor": 0,
  "metadata": {
    "colab": {
      "provenance": []
    },
    "kernelspec": {
      "name": "python3",
      "display_name": "Python 3"
    },
    "language_info": {
      "name": "python"
    }
  },
  "cells": [
    {
      "cell_type": "markdown",
      "source": [
        "#Python basic\n"
      ],
      "metadata": {
        "id": "LtxIJ68gMbR3"
      }
    },
    {
      "cell_type": "markdown",
      "source": [
        "**Python Basics Questions**\n",
        "\n",
        "1. What is Python, and why is it popular?\n",
        "- Python is a high-level programming language that is easy to read and write. It’s popular because it has a simple syntax, which makes it beginner-friendly, and it can be used for many different things like web development, data analysis, automation, and even making games. A lot of people and companies use it, and there are many free resources and libraries available, so it's a good language to learn for both beginners and professionals.\n",
        "\n",
        "2. What is an interpreter in Python?\n",
        "- An interpreter in Python is a program that runs the code line by line.\n",
        "It translates each line into machine code and executes it immediately.\n",
        "This makes it easier to spot and fix errors while writing the program.\n",
        "\n",
        "3. What are pre-defined keywords in Python?\n",
        "- Pre-defined keywords in Python are special words that have specific meanings and are used to write the rules of the language. We can't use them as variable names because they are already used by Python for certain functions.\n",
        "Examples include `if`, `else`, `while`, `for`, and `def`.\n",
        "\n",
        "4. Can keywords be used as variable names?\n",
        "- Pre-defined keywords in Python are words that are already reserved by the language for specific purposes. They are used to write Python programs and have special meanings, like controlling flow or defining functions.\n",
        "We can't use them as names for variables or anything else.\n",
        "\n",
        "5. What is mutability in Python?\n",
        "-  Mutability in Python means whether a value or object can be changed after it is created.If something is mutable, like a list, we can change its elements.\n",
        "If it’s immutable, like a string or tuple, we can’t change its content after it's made.\n",
        "\n",
        "6. Why are lists mutable, but tuples are immutable?\n",
        "- Lists are mutable because we can change, add, or remove items in them after they are created. Tuples are immutable, which means once they are made, we can’t change their values. This is because tuples are designed to be fixed and secure, while lists are made to be flexible.\n",
        "\n",
        "7. What is the difference between “==” and “is” operators in Python?\n",
        "- The `==` operator checks if two values are equal, meaning they have the same content. The `is` operator checks if two variables point to the same object in memory.So, `==` is about value, while `is` is about identity.\n",
        "\n",
        "8. What are logical operators in Python?\n",
        "- Logical operators in Python are used to combine or compare conditions.\n",
        "The main ones are `and`, `or`, and `not`.\n",
        "They help us make decisions in programs, like checking if two conditions are true or not.\n",
        "\n",
        "9. What is type casting in Python?\n",
        "- Type casting in Python means changing the data type of a value from one type to another.\n",
        "For example, we can change a string to an integer using `int()` or a number to a string using `str()`.\n",
        "It helps when we need to work with different data types together in a program.\n",
        "\n",
        "10. What is the difference between implicit and explicit type casting?\n",
        "- Implicit type casting happens when Python automatically changes one data type to another during a calculation, like turning an integer into a float.\n",
        "Explicit type casting is when we manually change the data type using functions like `int()`, `float()`, or `str()`.\n",
        "So, implicit is done by Python, and explicit is done by the programmer.\n",
        "\n",
        "11. What is the purpose of conditional statements in Python?\n",
        "- The purpose of conditional statements in Python is to make decisions in a program.\n",
        "They let the program choose what to do based on whether a condition is true or false.\n",
        "We use statements like `if`, `elif`, and `else` to control the flow of the program.\n",
        "\n",
        "12. How does the elif statement work?\n",
        "- The `elif` statement in Python is used when we want to check more than one condition.\n",
        "If the first `if` condition is false, Python moves to the `elif` and checks that.\n",
        "It helps us add more choices in our program without writing too many `if` statements.\n",
        "\n",
        "13. What is the difference between for and while loops?\n",
        "- The `for` loop is used when we know how many times we want to repeat something, like going through a list.\n",
        "The `while` loop is used when we want to keep repeating something until a condition becomes false.\n",
        "So, `for` is good for fixed loops, and `while` is good for loops that depend on a condition.\n",
        "\n",
        "14. Describe a scenario where a while loop is more suitable than a for loop.\n",
        "- A while loop is more suitable when we don’t know how many times we need to repeat something.\n",
        "For example, if we keep asking a user to enter the correct password until they get it right, we don’t know how many tries they’ll need.\n",
        "In this case, a while loop works better because it keeps running until the condition is met.\n",
        "\n",
        "\n",
        "\n"
      ],
      "metadata": {
        "id": "CuIrtb9EMzJX"
      }
    },
    {
      "cell_type": "markdown",
      "source": [
        "**Practical Questions**"
      ],
      "metadata": {
        "id": "qQpP8rpCTmP3"
      }
    },
    {
      "cell_type": "code",
      "source": [
        "#1. Write a Python program to print \"Hello, World!\"\n",
        "'''\n",
        "print(\"Hello, World!\")\n",
        "'''"
      ],
      "metadata": {
        "colab": {
          "base_uri": "https://localhost:8080/",
          "height": 35
        },
        "id": "theNMoDdTozO",
        "outputId": "e248f59c-e38a-4939-adff-9517761976ee"
      },
      "execution_count": 1,
      "outputs": [
        {
          "output_type": "execute_result",
          "data": {
            "text/plain": [
              "'\\nprint(\"Hello, World!\")\\n'"
            ],
            "application/vnd.google.colaboratory.intrinsic+json": {
              "type": "string"
            }
          },
          "metadata": {},
          "execution_count": 1
        }
      ]
    },
    {
      "cell_type": "code",
      "source": [
        "#2. Write a Python program that displays your name and age.\n",
        "'''\n",
        "print(\"My name is Om Kumar Gond\")\n",
        "print(\"I am 17 years old\")\n",
        "'''"
      ],
      "metadata": {
        "colab": {
          "base_uri": "https://localhost:8080/",
          "height": 35
        },
        "id": "CyODSr9lVX8x",
        "outputId": "46b91ccb-dffb-4efc-849d-6c6be221b2a6"
      },
      "execution_count": 6,
      "outputs": [
        {
          "output_type": "execute_result",
          "data": {
            "text/plain": [
              "'\\nprint(\"My name is Om Kumar Gond\")\\nprint(\"I am 17 years old\")\\n'"
            ],
            "application/vnd.google.colaboratory.intrinsic+json": {
              "type": "string"
            }
          },
          "metadata": {},
          "execution_count": 6
        }
      ]
    },
    {
      "cell_type": "code",
      "source": [
        "#3. Write code to print all the pre-defined keywords in Python using the keyword library.\n",
        "'''\n",
        "help(\"keywords\")\n",
        "'''"
      ],
      "metadata": {
        "colab": {
          "base_uri": "https://localhost:8080/",
          "height": 35
        },
        "id": "qeNzFaPFWnO2",
        "outputId": "a295f6f1-18a7-4f87-82bb-1ef9548bdc80"
      },
      "execution_count": 13,
      "outputs": [
        {
          "output_type": "execute_result",
          "data": {
            "text/plain": [
              "'\\nhelp(\"keywords\")\\n'"
            ],
            "application/vnd.google.colaboratory.intrinsic+json": {
              "type": "string"
            }
          },
          "metadata": {},
          "execution_count": 13
        }
      ]
    },
    {
      "cell_type": "code",
      "source": [
        "#4. Write a program that checks if a given word is a Python keyword.\n",
        "'''\n",
        "word = input(\"Enter a word: \")\n",
        "if keyword.iskeyword(word):\n",
        "    print(f\"'{word}' is a Python keyword.\")\n",
        "else:\n",
        "    print(f\"'{word}' is not a Python keyword.\")\n",
        "'''"
      ],
      "metadata": {
        "colab": {
          "base_uri": "https://localhost:8080/",
          "height": 53
        },
        "id": "_jt2QUSMXXcS",
        "outputId": "31c08c64-9395-4b51-d786-0cda03870503"
      },
      "execution_count": 17,
      "outputs": [
        {
          "output_type": "execute_result",
          "data": {
            "text/plain": [
              "'\\nword = input(\"Enter a word: \")\\nif keyword.iskeyword(word):\\n    print(f\"\\'{word}\\' is a Python keyword.\")\\nelse:\\n    print(f\"\\'{word}\\' is not a Python keyword.\")\\n'"
            ],
            "application/vnd.google.colaboratory.intrinsic+json": {
              "type": "string"
            }
          },
          "metadata": {},
          "execution_count": 17
        }
      ]
    },
    {
      "cell_type": "code",
      "source": [
        "#5. Create a list and tuple in Python, and demonstrate how attempting to change an element works differently for each.\n",
        "'''\n",
        "my_list = [10, 20, 30]\n",
        "my_tuple = (10, 20, 30)\n",
        "my_list[1] = 99\n",
        "print(\"Updated list:\", my_list)\n",
        "try:\n",
        "    my_tuple[1] = 99\n",
        "except TypeError as e:\n",
        "    print(\"Error when trying to change tuple:\", e)\n",
        "'''"
      ],
      "metadata": {
        "colab": {
          "base_uri": "https://localhost:8080/",
          "height": 53
        },
        "id": "5IZR_Bn3X5yc",
        "outputId": "80c9f33e-7da1-4ed7-ce7a-06f179100a2c"
      },
      "execution_count": 20,
      "outputs": [
        {
          "output_type": "execute_result",
          "data": {
            "text/plain": [
              "'\\nmy_list = [10, 20, 30]\\nmy_tuple = (10, 20, 30)\\nmy_list[1] = 99\\nprint(\"Updated list:\", my_list)\\ntry:\\n    my_tuple[1] = 99\\nexcept TypeError as e:\\n    print(\"Error when trying to change tuple:\", e)\\n'"
            ],
            "application/vnd.google.colaboratory.intrinsic+json": {
              "type": "string"
            }
          },
          "metadata": {},
          "execution_count": 20
        }
      ]
    },
    {
      "cell_type": "code",
      "source": [
        "#6. Write a function to demonstrate the behavior of mutable and immutable arguments.\n",
        "'''\n",
        "def demo_function(number, my_list):\n",
        "    number = number + 5\n",
        "    my_list.append(100)\n",
        "    print(\"Inside function:\")\n",
        "    print(\"number =\", number)\n",
        "    print(\"my_list =\", my_list)\n",
        "num = 10\n",
        "list1 = [1, 2, 3]\n",
        "\n",
        "demo_function(num, list1)\n",
        "\n",
        "print(\"Outside function:\")\n",
        "print(\"num =\", num)\n",
        "print(\"list1 =\", list1)\n",
        "'''"
      ],
      "metadata": {
        "colab": {
          "base_uri": "https://localhost:8080/",
          "height": 70
        },
        "id": "k21eBqzDZG2S",
        "outputId": "6d347b72-bdce-467a-f359-5d798b25d963"
      },
      "execution_count": 23,
      "outputs": [
        {
          "output_type": "execute_result",
          "data": {
            "text/plain": [
              "'\\ndef demo_function(number, my_list):\\n    number = number + 5\\n    my_list.append(100)\\n    print(\"Inside function:\")\\n    print(\"number =\", number)\\n    print(\"my_list =\", my_list)\\nnum = 10\\nlist1 = [1, 2, 3]\\n\\ndemo_function(num, list1)\\n\\nprint(\"Outside function:\")\\nprint(\"num =\", num)   \\nprint(\"list1 =\", list1) \\n'"
            ],
            "application/vnd.google.colaboratory.intrinsic+json": {
              "type": "string"
            }
          },
          "metadata": {},
          "execution_count": 23
        }
      ]
    },
    {
      "cell_type": "code",
      "source": [
        "#7. Write a program that performs basic arithmetic operations on two user-input numbers.\n",
        "'''\n",
        "num1 = float(\"32.5\")\n",
        "num2 = float(\"68.4\")\n",
        "addition = num1 + num2\n",
        "subtraction = num1 - num2\n",
        "multiplication = num1 * num2\n",
        "if num2 != 0:\n",
        "    division = num1 / num2\n",
        "else:\n",
        "    division = \"Cannot divide by zero\"\n",
        "print(\"Addition:\", addition)\n",
        "print(\"Subtraction:\", subtraction)\n",
        "print(\"Multiplication:\", multiplication)\n",
        "print(\"Division:\", division)\n",
        "'''"
      ],
      "metadata": {
        "colab": {
          "base_uri": "https://localhost:8080/",
          "height": 70
        },
        "id": "BFjFfpOVZuNc",
        "outputId": "4c4d45ae-bc52-4edb-bce3-6ca6fa6e5da3"
      },
      "execution_count": 28,
      "outputs": [
        {
          "output_type": "execute_result",
          "data": {
            "text/plain": [
              "'\\nnum1 = float(\"32.5\")\\nnum2 = float(\"68.4\")\\naddition = num1 + num2\\nsubtraction = num1 - num2\\nmultiplication = num1 * num2\\nif num2 != 0:\\n    division = num1 / num2\\nelse:\\n    division = \"Cannot divide by zero\"\\nprint(\"Addition:\", addition)\\nprint(\"Subtraction:\", subtraction)\\nprint(\"Multiplication:\", multiplication)\\nprint(\"Division:\", division)\\n'"
            ],
            "application/vnd.google.colaboratory.intrinsic+json": {
              "type": "string"
            }
          },
          "metadata": {},
          "execution_count": 28
        }
      ]
    },
    {
      "cell_type": "code",
      "source": [
        "#8. Write a program to demonstrate the use of logical operators.\n",
        "'''\n",
        "a = int(\"15\")\n",
        "b = int(\"25\")\n",
        "if a > 0 and b > 0:\n",
        "    print(\"Both numbers are positive.\")\n",
        "if a > 0 or b > 0:\n",
        "    print(\"At least one number is positive.\")\n",
        "if not (a < 0 and b < 0):\n",
        "    print(\"It's not true that both numbers are negative.\")\n",
        "'''\n"
      ],
      "metadata": {
        "colab": {
          "base_uri": "https://localhost:8080/",
          "height": 53
        },
        "id": "kclZwoMkbIp7",
        "outputId": "36b4b733-6d86-429b-b3d9-3c66801680f6"
      },
      "execution_count": 32,
      "outputs": [
        {
          "output_type": "execute_result",
          "data": {
            "text/plain": [
              "'\\na = int(\"15\")\\nb = int(\"25\")\\nif a > 0 and b > 0:\\n    print(\"Both numbers are positive.\")\\nif a > 0 or b > 0:\\n    print(\"At least one number is positive.\")\\nif not (a < 0 and b < 0):\\n    print(\"It\\'s not true that both numbers are negative.\")\\n'"
            ],
            "application/vnd.google.colaboratory.intrinsic+json": {
              "type": "string"
            }
          },
          "metadata": {},
          "execution_count": 32
        }
      ]
    },
    {
      "cell_type": "code",
      "source": [
        "#9. Write a Python program to convert user input from string to integer, float, and boolean types.\n",
        "'''\n",
        "# Take user input as a string\n",
        "user_input = input(\"Enter a value: \")\n",
        "\n",
        "# Convert to integer\n",
        "try:\n",
        "    int_value = int(user_input)\n",
        "    print(\"As Integer:\", int_value)\n",
        "except ValueError:\n",
        "    print(\"Cannot convert to Integer\")\n",
        "\n",
        "# Convert to float\n",
        "try:\n",
        "    float_value = float(user_input)\n",
        "    print(\"As Float:\", float_value)\n",
        "except ValueError:\n",
        "    print(\"Cannot convert to Float\")\n",
        "\n",
        "# Convert to boolean\n",
        "bool_value = bool(user_input)\n",
        "print(\"As Boolean:\", bool_value)\n",
        "\n",
        "'''"
      ],
      "metadata": {
        "colab": {
          "base_uri": "https://localhost:8080/",
          "height": 87
        },
        "id": "X_TmkuFAcVQh",
        "outputId": "3f59d6e7-0a80-4367-d54d-2f8492d5c3ff"
      },
      "execution_count": 34,
      "outputs": [
        {
          "output_type": "execute_result",
          "data": {
            "text/plain": [
              "'\\n# Take user input as a string\\nuser_input = input(\"Enter a value: \")\\n\\n# Convert to integer\\ntry:\\n    int_value = int(user_input)\\n    print(\"As Integer:\", int_value)\\nexcept ValueError:\\n    print(\"Cannot convert to Integer\")\\n\\n# Convert to float\\ntry:\\n    float_value = float(user_input)\\n    print(\"As Float:\", float_value)\\nexcept ValueError:\\n    print(\"Cannot convert to Float\")\\n\\n# Convert to boolean\\nbool_value = bool(user_input)\\nprint(\"As Boolean:\", bool_value)\\n\\n'"
            ],
            "application/vnd.google.colaboratory.intrinsic+json": {
              "type": "string"
            }
          },
          "metadata": {},
          "execution_count": 34
        }
      ]
    },
    {
      "cell_type": "code",
      "source": [
        "#10. Write code to demonstrate type casting with list elements.\n",
        "'''\n",
        "# List of strings that look like numbers\n",
        "str_list = [\"10\", \"20\", \"30\", \"40\"]\n",
        "\n",
        "# Convert each string element to an integer\n",
        "int_list = [int(item) for item in str_list]\n",
        "\n",
        "# Print both lists\n",
        "print(\"Original list (strings):\", str_list)\n",
        "print(\"After type casting to integers:\", int_list)\n",
        "'''"
      ],
      "metadata": {
        "colab": {
          "base_uri": "https://localhost:8080/",
          "height": 53
        },
        "id": "eJvY6SRmcxbt",
        "outputId": "56c01664-3ddf-462d-fdab-2d618623d8f9"
      },
      "execution_count": 37,
      "outputs": [
        {
          "output_type": "execute_result",
          "data": {
            "text/plain": [
              "'\\n# List of strings that look like numbers\\nstr_list = [\"10\", \"20\", \"30\", \"40\"]\\n\\n# Convert each string element to an integer\\nint_list = [int(item) for item in str_list]\\n\\n# Print both lists\\nprint(\"Original list (strings):\", str_list)\\nprint(\"After type casting to integers:\", int_list)\\n'"
            ],
            "application/vnd.google.colaboratory.intrinsic+json": {
              "type": "string"
            }
          },
          "metadata": {},
          "execution_count": 37
        }
      ]
    },
    {
      "cell_type": "code",
      "source": [
        "#11. Write a program that checks if a number is positive, negative, or zero.\n",
        "'''\n",
        "# Take input from the user\n",
        "num = float(input(\"Enter a number: \"))\n",
        "\n",
        "# Check if the number is positive, negative, or zero\n",
        "if num > 0:\n",
        "    print(\"The number is positive.\")\n",
        "elif num < 0:\n",
        "    print(\"The number is negative.\")\n",
        "else:\n",
        "    print(\"The number is zero.\")\n",
        "\n",
        "'''"
      ],
      "metadata": {
        "colab": {
          "base_uri": "https://localhost:8080/",
          "height": 53
        },
        "id": "0EslpI6_dI3L",
        "outputId": "00bfe799-2b06-4ee2-d120-ba13ff84a7ee"
      },
      "execution_count": 43,
      "outputs": [
        {
          "output_type": "execute_result",
          "data": {
            "text/plain": [
              "'\\n# Take input from the user\\nnum = float(input(\"Enter a number: \"))\\n\\n# Check if the number is positive, negative, or zero\\nif num > 0:\\n    print(\"The number is positive.\")\\nelif num < 0:\\n    print(\"The number is negative.\")\\nelse:\\n    print(\"The number is zero.\")\\n\\n'"
            ],
            "application/vnd.google.colaboratory.intrinsic+json": {
              "type": "string"
            }
          },
          "metadata": {},
          "execution_count": 43
        }
      ]
    },
    {
      "cell_type": "code",
      "source": [
        "#12. Write a for loop to print numbers from 1 to 10.\n",
        "'''\n",
        "for i in range(1, 11):\n",
        "    print(i)\n",
        "'''"
      ],
      "metadata": {
        "colab": {
          "base_uri": "https://localhost:8080/",
          "height": 35
        },
        "id": "hNtu1MF3dokO",
        "outputId": "189d196a-0999-40ca-ec03-3636aa163704"
      },
      "execution_count": 44,
      "outputs": [
        {
          "output_type": "execute_result",
          "data": {
            "text/plain": [
              "'\\nfor i in range(1, 11):\\n    print(i)\\n'"
            ],
            "application/vnd.google.colaboratory.intrinsic+json": {
              "type": "string"
            }
          },
          "metadata": {},
          "execution_count": 44
        }
      ]
    },
    {
      "cell_type": "code",
      "source": [
        "#13. Write a Python program to find the sum of all even numbers between 1 and 50.\n",
        "'''\n",
        "# Initialize sum\n",
        "even_sum = 0\n",
        "\n",
        "# Loop through numbers from 1 to 50\n",
        "for i in range(1, 51):\n",
        "    if i % 2 == 0:\n",
        "        even_sum += i\n",
        "\n",
        "# Print the result\n",
        "print(\"Sum of even numbers from 1 to 50 is:\", even_sum)\n",
        "\n",
        "'''"
      ],
      "metadata": {
        "colab": {
          "base_uri": "https://localhost:8080/",
          "height": 53
        },
        "id": "Gz0Y4OGxekgB",
        "outputId": "85360c53-b7d4-4d6f-cb8d-b3e82616646c"
      },
      "execution_count": 40,
      "outputs": [
        {
          "output_type": "execute_result",
          "data": {
            "text/plain": [
              "'\\n# Initialize sum\\neven_sum = 0\\n\\n# Loop through numbers from 1 to 50\\nfor i in range(1, 51):\\n    if i % 2 == 0:\\n        even_sum += i\\n\\n# Print the result\\nprint(\"Sum of even numbers from 1 to 50 is:\", even_sum)\\n\\n'"
            ],
            "application/vnd.google.colaboratory.intrinsic+json": {
              "type": "string"
            }
          },
          "metadata": {},
          "execution_count": 40
        }
      ]
    },
    {
      "cell_type": "code",
      "source": [
        "#14. Write a program to reverse a string using a while loop.\n",
        "'''\n",
        "# Take input from the user\n",
        "text = input(\"Enter a string: \")\n",
        "\n",
        "# Initialize variables\n",
        "reversed_text = \"\"\n",
        "index = len(text) - 1\n",
        "\n",
        "# Use while loop to reverse the string\n",
        "while index >= 0:\n",
        "    reversed_text += text[index]\n",
        "    index -= 1\n",
        "\n",
        "# Print the reversed string\n",
        "print(\"Reversed string:\", reversed_text)\n",
        "\n",
        "'''"
      ],
      "metadata": {
        "colab": {
          "base_uri": "https://localhost:8080/",
          "height": 70
        },
        "id": "AaTQmEAze7QQ",
        "outputId": "86fc57b0-ebf7-4dee-877f-0567e8d481ee"
      },
      "execution_count": 41,
      "outputs": [
        {
          "output_type": "execute_result",
          "data": {
            "text/plain": [
              "'\\n# Take input from the user\\ntext = input(\"Enter a string: \")\\n\\n# Initialize variables\\nreversed_text = \"\"\\nindex = len(text) - 1\\n\\n# Use while loop to reverse the string\\nwhile index >= 0:\\n    reversed_text += text[index]\\n    index -= 1\\n\\n# Print the reversed string\\nprint(\"Reversed string:\", reversed_text)\\n\\n'"
            ],
            "application/vnd.google.colaboratory.intrinsic+json": {
              "type": "string"
            }
          },
          "metadata": {},
          "execution_count": 41
        }
      ]
    },
    {
      "cell_type": "code",
      "source": [
        "#15. Write a Python program to calculate the factorial of a number provided by the user using a while loop.\n",
        "'''\n",
        "# Take input from the user\n",
        "num = int(input(\"Enter a number: \"))\n",
        "\n",
        "# Initialize variables\n",
        "factorial = 1\n",
        "i = 1\n",
        "\n",
        "# Check if the number is negative\n",
        "if num < 0:\n",
        "    print(\"Factorial is not defined for negative numbers.\")\n",
        "else:\n",
        "    # Calculate factorial using while loop\n",
        "    while i <= num:\n",
        "        factorial *= i\n",
        "        i += 1\n",
        "    # Print the result\n",
        "    print(\"Factorial of\", num, \"is:\", factorial)\n",
        "'''"
      ],
      "metadata": {
        "colab": {
          "base_uri": "https://localhost:8080/",
          "height": 70
        },
        "id": "XWbxDQy7fPwx",
        "outputId": "a3f88a71-59ea-41af-9f0a-401d90e8b22c"
      },
      "execution_count": 42,
      "outputs": [
        {
          "output_type": "execute_result",
          "data": {
            "text/plain": [
              "'\\n# Take input from the user\\nnum = int(input(\"Enter a number: \"))\\n\\n# Initialize variables\\nfactorial = 1\\ni = 1\\n\\n# Check if the number is negative\\nif num < 0:\\n    print(\"Factorial is not defined for negative numbers.\")\\nelse:\\n    # Calculate factorial using while loop\\n    while i <= num:\\n        factorial *= i\\n        i += 1\\n    # Print the result\\n    print(\"Factorial of\", num, \"is:\", factorial)\\n'"
            ],
            "application/vnd.google.colaboratory.intrinsic+json": {
              "type": "string"
            }
          },
          "metadata": {},
          "execution_count": 42
        }
      ]
    },
    {
      "cell_type": "code",
      "source": [],
      "metadata": {
        "id": "IRQ8jcBiflOm"
      },
      "execution_count": null,
      "outputs": []
    }
  ]
}